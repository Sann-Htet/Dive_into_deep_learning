{
 "cells": [
  {
   "cell_type": "code",
   "execution_count": null,
   "id": "e3887c83",
   "metadata": {},
   "outputs": [],
   "source": [
    "import logging\n",
    "from d2l import torch as d2l\n",
    "logging.basicConfig(level=logging.INFO)\n",
    "\n",
    "from syne_tune import StoppingCriterion, Tuner\n",
    "from syne_tune.backend.python_backend import PythonBackend\n",
    "from syne_tune.config_space import loguniform, randint\n",
    "from syne_tune.experiments import load_experiment\n",
    "from syne_tune.optimizer.baselines import RandomSearch"
   ]
  },
  {
   "cell_type": "markdown",
   "id": "db5b3876",
   "metadata": {},
   "source": [
    "## Objective Function"
   ]
  },
  {
   "cell_type": "code",
   "execution_count": 1,
   "id": "4f6be7ce",
   "metadata": {},
   "outputs": [],
   "source": [
    "def hpo_objective_lenet_synetune(learning_rate, batch_size, max_epochs):\n",
    "    from syne_tune import Reporter\n",
    "    from d2l import torch as d2l\n",
    "\n",
    "    model = d2l.LeNet(lr=learning_rate, num_classes=10)\n",
    "    trainer = d2l.HPOTrainer(max_epochs=1, num_gpus=1)\n",
    "    data = d2l.FashionMNIST(batch_size=batch_size)\n",
    "    model.apply_init([next(iter(data.get_dataloader(True)))[0]], d2l.init_cnn)\n",
    "    report = Reporter()\n",
    "    for epoch in range(1, max_epochs + 1):\n",
    "        if epoch == 1:\n",
    "            # Initialize the state of Trainer\n",
    "            trainer.fit(model=model, data=data)\n",
    "        else:\n",
    "            trainer.fit_epoch()\n",
    "        validation_error = trainer.validation_error().cpu().detach().numpy()\n",
    "        report(epoch=epoch, validation_error=float(validation_error))"
   ]
  },
  {
   "cell_type": "markdown",
   "id": "92c2aff5",
   "metadata": {},
   "source": [
    "## Asynchronous Scheduler"
   ]
  },
  {
   "cell_type": "code",
   "execution_count": null,
   "id": "6e6124fa",
   "metadata": {},
   "outputs": [],
   "source": [
    "n_workers = 1 # Needs to be <= the number of available GPUs\n",
    "\n",
    "max_wallclock_time = 12 * 60    # 12 minutes"
   ]
  },
  {
   "cell_type": "code",
   "execution_count": 3,
   "id": "856aedf8",
   "metadata": {},
   "outputs": [],
   "source": [
    "mode = \"min\"\n",
    "metric = \"validation_error\""
   ]
  },
  {
   "cell_type": "code",
   "execution_count": null,
   "id": "a869cdd3",
   "metadata": {},
   "outputs": [],
   "source": [
    "config_space = {\n",
    "    \"learning_rate\": loguniform(1e-2, 1),\n",
    "    \"batch_size\": randint(32, 256),\n",
    "    \"max_epochs\": 10,\n",
    "    }\n",
    "initial_config = {\n",
    "    \"learning_rate\": 0.1,\n",
    "    \"batch_size\": 128,\n",
    "    }"
   ]
  },
  {
   "cell_type": "code",
   "execution_count": null,
   "id": "07ef4f49",
   "metadata": {},
   "outputs": [],
   "source": [
    "trial_backend = PythonBackend(\n",
    "    tune_function=hpo_objective_lenet_synetune,\n",
    "    config_space=config_space,\n",
    "    )"
   ]
  },
  {
   "cell_type": "code",
   "execution_count": null,
   "id": "6b6e04cb",
   "metadata": {},
   "outputs": [],
   "source": [
    "scheduler = RandomSearch(\n",
    "    config_space,\n",
    "    metric=metric,\n",
    "    mode=mode,\n",
    "    points_to_evaluate=[initial_config],\n",
    "    )"
   ]
  },
  {
   "cell_type": "code",
   "execution_count": null,
   "id": "1784a452",
   "metadata": {},
   "outputs": [],
   "source": [
    "stop_criterion = StoppingCriterion(max_wallclock_time=max_wallclock_time)\n",
    "\n",
    "tuner = Tuner(\n",
    "    trial_backend=trial_backend,\n",
    "    scheduler=scheduler,\n",
    "    stop_criterion=stop_criterion,\n",
    "    n_workers=n_workers,\n",
    "    print_update_interval=int(max_wallclock_time * 0.6),\n",
    "    )"
   ]
  },
  {
   "cell_type": "code",
   "execution_count": null,
   "id": "fa03b75e",
   "metadata": {},
   "outputs": [],
   "source": [
    "tuner.run()"
   ]
  },
  {
   "cell_type": "code",
   "execution_count": null,
   "id": "a70d75c5",
   "metadata": {},
   "outputs": [],
   "source": [
    "d2l.set_figsize()\n",
    "tuning_experiment = load_experiment(tuner.name)\n",
    "tuning_experiment.plot()"
   ]
  },
  {
   "cell_type": "markdown",
   "id": "b78b8b8b",
   "metadata": {},
   "source": [
    "## Visualize the Asynchronous Optimization Process"
   ]
  },
  {
   "cell_type": "markdown",
   "id": "ee603b24",
   "metadata": {},
   "source": [
    "d2l.set_figsize([6, 2.5])\n",
    "results = tuning_experiment.results\n",
    "\n",
    "for trial_id in results.trial_id.unique():\n",
    "    df = results[results[\"trial_id\"] == trial_id]\n",
    "    d2l.plt.plot(\n",
    "        df[\"st_tuner_time\"],\n",
    "        df[\"validation_error\"],\n",
    "        marker=\"o\"\n",
    "        )\n",
    "        \n",
    "d2l.plt.xlabel(\"wall-clock time\")\n",
    "d2l.plt.ylabel(\"objective function\")"
   ]
  }
 ],
 "metadata": {
  "kernelspec": {
   "display_name": ".venv",
   "language": "python",
   "name": "python3"
  },
  "language_info": {
   "codemirror_mode": {
    "name": "ipython",
    "version": 3
   },
   "file_extension": ".py",
   "mimetype": "text/x-python",
   "name": "python",
   "nbconvert_exporter": "python",
   "pygments_lexer": "ipython3",
   "version": "3.13.7"
  }
 },
 "nbformat": 4,
 "nbformat_minor": 5
}
